{
 "cells": [
  {
   "cell_type": "code",
   "execution_count": 1,
   "metadata": {},
   "outputs": [],
   "source": [
    "import pandas as pd\n",
    "import qrcode.image.svg\n",
    "from PIL import Image, ImageDraw, ImageFont\n",
    "from cairosvg import svg2png"
   ]
  },
  {
   "cell_type": "code",
   "execution_count": 2,
   "metadata": {},
   "outputs": [],
   "source": [
    "# read and display imported data\n",
    "df = pd.read_csv(\"people.csv\", keep_default_na=False)\n",
    "# print(df)\n",
    "\n",
    "# define template to use\n",
    "template = Image.open(\"templates/390x600.png\")\n",
    "width, heigth = template.size\n",
    "\n",
    "# define qr parameters\n",
    "factory = qrcode.image.svg.SvgPathImage"
   ]
  },
  {
   "cell_type": "code",
   "execution_count": 3,
   "metadata": {},
   "outputs": [],
   "source": [
    "# convert to a dictionary of records\n",
    "records = df.to_dict('records')\n",
    "\n",
    "# select a font family to write with\n",
    "lato = ImageFont.truetype(\"fonts/Lato/Lato-Regular.ttf\", size=24)\n",
    "montserrat = ImageFont.truetype(\"fonts/Montserrat/Montserrat-Bold.ttf\", size=24)"
   ]
  },
  {
   "cell_type": "code",
   "execution_count": 4,
   "metadata": {},
   "outputs": [],
   "source": [
    "# defines the drawing parameters on the card\n",
    "def generate_card(data, trimmed_id, card, x):\n",
    "\n",
    "    # take a clear copy of the template\n",
    "    clear = card.copy()\n",
    "\n",
    "    # import pohoto and paste on card\n",
    "    pic = Image.open(f\"photos/{trimmed_id}.jpg\").resize((150, 150), Image.ANTIALIAS)\n",
    "    clear.paste(pic, (120, 50))\n",
    "\n",
    "    # start drawing on card\n",
    "    draw = ImageDraw.Draw(clear)\n",
    "\n",
    "    # draw ID text\n",
    "    draw.text((157, 380), str(data['id']), font=lato, fill='#7D909B')\n",
    "\n",
    "    # draw text with PIL text anchors MA, with image x = width/2 and y = distance from top to center text horizontally\n",
    "    draw.text((x/2, 238), data['name'], font=montserrat, fill='#0F5D89', anchor='ma')\n",
    "    draw.text((x/2, 276), data['departament'], font=lato, fill='#7D909B', anchor='ma')\n",
    "    draw.text((x/2, 313), data['position'], font=lato, fill='#7D909B', anchor='ma')\n",
    "\n",
    "    # create QR, from record data and save as temp svg\n",
    "    svg = qrcode.make(data, image_factory=factory)\n",
    "    svg.save('temp/temp.svg')\n",
    "\n",
    "    # convert temp svg to temp png\n",
    "    svg2png(url=\"temp/temp.svg\", write_to=\"temp/temp.png\")\n",
    "\n",
    "    # import temp png and paste onto card as a mask to avoid transparency overwriting the card\n",
    "    temp = Image.open(f\"temp/temp.png\").resize((110, 110))\n",
    "    clear.paste(temp, (265, 475), temp)\n",
    "\n",
    "    # TO-DO find a method to create the svg and paste/draw it directly, avoiding conversions and saving/re-saving entirely\n",
    "\n",
    "    return clear"
   ]
  },
  {
   "cell_type": "code",
   "execution_count": 5,
   "metadata": {},
   "outputs": [],
   "source": [
    "# loops each record to be drawn\n",
    "for record in records:\n",
    "    trimmed_id = record['id'].replace('.','').replace('-','')\n",
    "    card_done = generate_card(record, trimmed_id, template, width)\n",
    "    card_done.save(f\"cards/{trimmed_id}.png\")"
   ]
  }
 ],
 "metadata": {
  "interpreter": {
   "hash": "31f2aee4e71d21fbe5cf8b01ff0e069b9275f58929596ceb00d14d90e3e16cd6"
  },
  "kernelspec": {
   "display_name": "Python 3.8.10 64-bit",
   "name": "python3"
  },
  "language_info": {
   "codemirror_mode": {
    "name": "ipython",
    "version": 3
   },
   "file_extension": ".py",
   "mimetype": "text/x-python",
   "name": "python",
   "nbconvert_exporter": "python",
   "pygments_lexer": "ipython3",
   "version": "3.8.10"
  },
  "orig_nbformat": 4
 },
 "nbformat": 4,
 "nbformat_minor": 2
}
